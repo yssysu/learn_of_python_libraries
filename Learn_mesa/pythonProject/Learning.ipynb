{
 "cells": [
  {
   "cell_type": "code",
   "id": "initial_id",
   "metadata": {
    "collapsed": true,
    "ExecuteTime": {
     "end_time": "2024-11-12T12:16:23.785113Z",
     "start_time": "2024-11-12T12:16:23.497661Z"
    }
   },
   "source": [
    "import mesa\n",
    "\n",
    "# Data visualization tools.\n",
    "import seaborn as sns\n",
    "\n",
    "# Has multi-dimensional arrays and matrices. Has a large collection of\n",
    "# mathematical functions to operate on these arrays.\n",
    "import numpy as np\n",
    "\n",
    "# Data manipulation and analysis.\n",
    "import pandas as pd"
   ],
   "outputs": [],
   "execution_count": 3
  },
  {
   "metadata": {
    "ExecuteTime": {
     "end_time": "2024-11-12T12:33:45.639161Z",
     "start_time": "2024-11-12T12:33:45.633010Z"
    }
   },
   "cell_type": "code",
   "source": [
    "class MoneyAgent(mesa.Agent):\n",
    "    \"\"\"An agent with fixed initial wealth.\"\"\"\n",
    "\n",
    "    def __init__(self, model):\n",
    "        # Pass the parameters to the parent class.\n",
    "        super().__init__(model)\n",
    "\n",
    "        # Create the agent's attribute and set the initial values.\n",
    "        self.wealth = 1\n",
    "\n",
    "    def say_hi(self):\n",
    "        # The agent's step will go here.\n",
    "        # For demonstration purposes we will print the agent's unique_id\n",
    "        print(f\"Hi, I am an agent, you can call me {str(self.unique_id)}.\")\n",
    "\n",
    "\n",
    "class MoneyModel(mesa.Model):\n",
    "    \"\"\"A model with some number of agents.\"\"\"\n",
    "\n",
    "    def __init__(self, n, seed=None):\n",
    "        super().__init__(seed=seed)\n",
    "        self.num_agents = n\n",
    "        \n",
    "        # Create agents\n",
    "        for _ in range(self.num_agents):\n",
    "            a = MoneyAgent(self) # This calls the agent class parameter n number of times                         \n",
    "\n",
    "    def step(self):\n",
    "        \"\"\"Advance the model by one step.\"\"\"\n",
    "\n",
    "        # This function psuedo-randomly reorders the list of agent objects and \n",
    "        # then iterates through calling the function passed in as the parameter\n",
    "        self.agents.shuffle_do(\"say_hi\")"
   ],
   "id": "554dc9109bdd52b0",
   "outputs": [],
   "execution_count": 10
  },
  {
   "metadata": {
    "ExecuteTime": {
     "end_time": "2024-11-12T12:33:58.382593Z",
     "start_time": "2024-11-12T12:33:58.377056Z"
    }
   },
   "cell_type": "code",
   "source": [
    "starter_model = MoneyModel(10)\n",
    "starter_model.step()"
   ],
   "id": "6af9c95fbce2a95f",
   "outputs": [
    {
     "name": "stdout",
     "output_type": "stream",
     "text": [
      "Hi, I am an agent, you can call me 8.\n",
      "Hi, I am an agent, you can call me 7.\n",
      "Hi, I am an agent, you can call me 2.\n",
      "Hi, I am an agent, you can call me 6.\n",
      "Hi, I am an agent, you can call me 4.\n",
      "Hi, I am an agent, you can call me 3.\n",
      "Hi, I am an agent, you can call me 5.\n",
      "Hi, I am an agent, you can call me 9.\n",
      "Hi, I am an agent, you can call me 10.\n",
      "Hi, I am an agent, you can call me 1.\n"
     ]
    }
   ],
   "execution_count": 15
  },
  {
   "metadata": {},
   "cell_type": "code",
   "outputs": [],
   "execution_count": null,
   "source": "",
   "id": "5df1ccc19dcccdb3"
  },
  {
   "metadata": {},
   "cell_type": "code",
   "outputs": [],
   "execution_count": null,
   "source": "",
   "id": "1847897a6d4b064f"
  }
 ],
 "metadata": {
  "kernelspec": {
   "display_name": "Python 3",
   "language": "python",
   "name": "python3"
  },
  "language_info": {
   "codemirror_mode": {
    "name": "ipython",
    "version": 2
   },
   "file_extension": ".py",
   "mimetype": "text/x-python",
   "name": "python",
   "nbconvert_exporter": "python",
   "pygments_lexer": "ipython2",
   "version": "2.7.6"
  }
 },
 "nbformat": 4,
 "nbformat_minor": 5
}
