{
 "cells": [
  {
   "metadata": {},
   "cell_type": "markdown",
   "source": "用**series**生成对象的时候，pandas会自动生成一个index，默认从0开始，如果需要自定义index，可以自己指定。",
   "id": "30f14133228a61fb"
  },
  {
   "metadata": {
    "ExecuteTime": {
     "end_time": "2024-10-30T16:48:52.143259Z",
     "start_time": "2024-10-30T16:48:51.729069Z"
    }
   },
   "cell_type": "code",
   "source": [
    "# 导入包\n",
    "import pandas as pd\n",
    "import numpy as np\n",
    "\n",
    "# 生成对象不指定index\n",
    "data_1 = pd.Series(['ys', 7, 18])\n",
    "data_1"
   ],
   "id": "232fdf648139b42e",
   "outputs": [
    {
     "data": {
      "text/plain": [
       "0    ys\n",
       "1     7\n",
       "2    18\n",
       "dtype: object"
      ]
     },
     "execution_count": 4,
     "metadata": {},
     "output_type": "execute_result"
    }
   ],
   "execution_count": 4
  },
  {
   "metadata": {
    "ExecuteTime": {
     "end_time": "2024-10-29T15:30:28.242889Z",
     "start_time": "2024-10-29T15:30:28.232369Z"
    }
   },
   "cell_type": "code",
   "source": [
    "# 生成对象指定index\n",
    "data_2 = pd.Series(['ys', 7, 18], \n",
    "                   index=['a', 'b', 'c'])\n",
    "data_2"
   ],
   "id": "7b3e7b0d848e535d",
   "outputs": [
    {
     "data": {
      "text/plain": [
       "a    ys\n",
       "b     7\n",
       "c    18\n",
       "dtype: object"
      ]
     },
     "execution_count": 5,
     "metadata": {},
     "output_type": "execute_result"
    }
   ],
   "execution_count": 5
  },
  {
   "metadata": {
    "ExecuteTime": {
     "end_time": "2024-10-29T15:32:12.751653Z",
     "start_time": "2024-10-29T15:32:12.740086Z"
    }
   },
   "cell_type": "code",
   "source": [
    "# 指定列的名称\n",
    "data_3 = pd.Series(['ys', 7, 18], \n",
    "                   index=['a', 'b', 'c'], \n",
    "                   name='杨赛')\n",
    "data_3"
   ],
   "id": "89c9d8cd2de8eb86",
   "outputs": [
    {
     "data": {
      "text/plain": [
       "a    ys\n",
       "b     7\n",
       "c    18\n",
       "Name: 杨赛, dtype: object"
      ]
     },
     "execution_count": 7,
     "metadata": {},
     "output_type": "execute_result"
    }
   ],
   "execution_count": 7
  },
  {
   "metadata": {
    "ExecuteTime": {
     "end_time": "2024-10-30T16:43:59.888743Z",
     "start_time": "2024-10-30T16:43:59.881846Z"
    }
   },
   "cell_type": "code",
   "source": [
    "# 如果是多列呢？\n",
    "data_4 = pd.Series([['ys', 7, 18],\n",
    "                    [1,2,4],\n",
    "                    [9,5,7],\n",
    "                    name = ['test1','test2','test3'],\n",
    "                    index = ['a', 'b', 'c']]\n",
    "                   )"
   ],
   "id": "c7cf2bbbea917662",
   "outputs": [
    {
     "ename": "SyntaxError",
     "evalue": "invalid syntax. Maybe you meant '==' or ':=' instead of '='? (3929678992.py, line 5)",
     "output_type": "error",
     "traceback": [
      "\u001B[0;36m  Cell \u001B[0;32mIn[2], line 5\u001B[0;36m\u001B[0m\n\u001B[0;31m    name = ['test1','test2','test3'],\u001B[0m\n\u001B[0m    ^\u001B[0m\n\u001B[0;31mSyntaxError\u001B[0m\u001B[0;31m:\u001B[0m invalid syntax. Maybe you meant '==' or ':=' instead of '='?\n"
     ]
    }
   ],
   "execution_count": 2
  },
  {
   "metadata": {},
   "cell_type": "markdown",
   "source": "这个时候我们会发现，该片段代码无法运行，因为*Series*只适用于一维数组，如果要进行多维的操作，那么需要用到*DataFrame*属性。",
   "id": "e59d18db3f121269"
  },
  {
   "metadata": {
    "ExecuteTime": {
     "end_time": "2024-10-30T16:48:56.647045Z",
     "start_time": "2024-10-30T16:48:56.637049Z"
    }
   },
   "cell_type": "code",
   "source": [
    "data_4 = pd.DataFrame([['ys', 7, 18],\n",
    "                       [1,2,4],\n",
    "                       [9,5,7]],\n",
    "                      columns = ['test1', 'test2', 'test3'],\n",
    "                      index = ['a', 'b', 'c'])\n",
    "data_4"
   ],
   "id": "b16b568bc660b1e2",
   "outputs": [
    {
     "data": {
      "text/plain": [
       "  test1  test2  test3\n",
       "a    ys      7     18\n",
       "b     1      2      4\n",
       "c     9      5      7"
      ],
      "text/html": [
       "<div>\n",
       "<style scoped>\n",
       "    .dataframe tbody tr th:only-of-type {\n",
       "        vertical-align: middle;\n",
       "    }\n",
       "\n",
       "    .dataframe tbody tr th {\n",
       "        vertical-align: top;\n",
       "    }\n",
       "\n",
       "    .dataframe thead th {\n",
       "        text-align: right;\n",
       "    }\n",
       "</style>\n",
       "<table border=\"1\" class=\"dataframe\">\n",
       "  <thead>\n",
       "    <tr style=\"text-align: right;\">\n",
       "      <th></th>\n",
       "      <th>test1</th>\n",
       "      <th>test2</th>\n",
       "      <th>test3</th>\n",
       "    </tr>\n",
       "  </thead>\n",
       "  <tbody>\n",
       "    <tr>\n",
       "      <th>a</th>\n",
       "      <td>ys</td>\n",
       "      <td>7</td>\n",
       "      <td>18</td>\n",
       "    </tr>\n",
       "    <tr>\n",
       "      <th>b</th>\n",
       "      <td>1</td>\n",
       "      <td>2</td>\n",
       "      <td>4</td>\n",
       "    </tr>\n",
       "    <tr>\n",
       "      <th>c</th>\n",
       "      <td>9</td>\n",
       "      <td>5</td>\n",
       "      <td>7</td>\n",
       "    </tr>\n",
       "  </tbody>\n",
       "</table>\n",
       "</div>"
      ]
     },
     "execution_count": 5,
     "metadata": {},
     "output_type": "execute_result"
    }
   ],
   "execution_count": 5
  },
  {
   "metadata": {
    "ExecuteTime": {
     "end_time": "2024-10-30T16:56:56.338983Z",
     "start_time": "2024-10-30T16:56:56.315096Z"
    }
   },
   "cell_type": "code",
   "source": [
    "import numpy as np\n",
    "\n",
    "# 调用生成一个10*3的数组\n",
    "num1 = np.arange(10,100,3).reshape(10,3)\n",
    "print(num1)\n",
    "\n",
    "name1 = ['a','b','c']\n",
    "index1 = np.arange(10)\n",
    "\n",
    "col1 = pd.DataFrame(num1, index=index1, columns=name1)\n",
    "col1"
   ],
   "id": "b3342c0b8a38034b",
   "outputs": [
    {
     "name": "stdout",
     "output_type": "stream",
     "text": [
      "[[10 13 16]\n",
      " [19 22 25]\n",
      " [28 31 34]\n",
      " [37 40 43]\n",
      " [46 49 52]\n",
      " [55 58 61]\n",
      " [64 67 70]\n",
      " [73 76 79]\n",
      " [82 85 88]\n",
      " [91 94 97]]\n"
     ]
    },
    {
     "data": {
      "text/plain": [
       "    a   b   c\n",
       "0  10  13  16\n",
       "1  19  22  25\n",
       "2  28  31  34\n",
       "3  37  40  43\n",
       "4  46  49  52\n",
       "5  55  58  61\n",
       "6  64  67  70\n",
       "7  73  76  79\n",
       "8  82  85  88\n",
       "9  91  94  97"
      ],
      "text/html": [
       "<div>\n",
       "<style scoped>\n",
       "    .dataframe tbody tr th:only-of-type {\n",
       "        vertical-align: middle;\n",
       "    }\n",
       "\n",
       "    .dataframe tbody tr th {\n",
       "        vertical-align: top;\n",
       "    }\n",
       "\n",
       "    .dataframe thead th {\n",
       "        text-align: right;\n",
       "    }\n",
       "</style>\n",
       "<table border=\"1\" class=\"dataframe\">\n",
       "  <thead>\n",
       "    <tr style=\"text-align: right;\">\n",
       "      <th></th>\n",
       "      <th>a</th>\n",
       "      <th>b</th>\n",
       "      <th>c</th>\n",
       "    </tr>\n",
       "  </thead>\n",
       "  <tbody>\n",
       "    <tr>\n",
       "      <th>0</th>\n",
       "      <td>10</td>\n",
       "      <td>13</td>\n",
       "      <td>16</td>\n",
       "    </tr>\n",
       "    <tr>\n",
       "      <th>1</th>\n",
       "      <td>19</td>\n",
       "      <td>22</td>\n",
       "      <td>25</td>\n",
       "    </tr>\n",
       "    <tr>\n",
       "      <th>2</th>\n",
       "      <td>28</td>\n",
       "      <td>31</td>\n",
       "      <td>34</td>\n",
       "    </tr>\n",
       "    <tr>\n",
       "      <th>3</th>\n",
       "      <td>37</td>\n",
       "      <td>40</td>\n",
       "      <td>43</td>\n",
       "    </tr>\n",
       "    <tr>\n",
       "      <th>4</th>\n",
       "      <td>46</td>\n",
       "      <td>49</td>\n",
       "      <td>52</td>\n",
       "    </tr>\n",
       "    <tr>\n",
       "      <th>5</th>\n",
       "      <td>55</td>\n",
       "      <td>58</td>\n",
       "      <td>61</td>\n",
       "    </tr>\n",
       "    <tr>\n",
       "      <th>6</th>\n",
       "      <td>64</td>\n",
       "      <td>67</td>\n",
       "      <td>70</td>\n",
       "    </tr>\n",
       "    <tr>\n",
       "      <th>7</th>\n",
       "      <td>73</td>\n",
       "      <td>76</td>\n",
       "      <td>79</td>\n",
       "    </tr>\n",
       "    <tr>\n",
       "      <th>8</th>\n",
       "      <td>82</td>\n",
       "      <td>85</td>\n",
       "      <td>88</td>\n",
       "    </tr>\n",
       "    <tr>\n",
       "      <th>9</th>\n",
       "      <td>91</td>\n",
       "      <td>94</td>\n",
       "      <td>97</td>\n",
       "    </tr>\n",
       "  </tbody>\n",
       "</table>\n",
       "</div>"
      ]
     },
     "execution_count": 16,
     "metadata": {},
     "output_type": "execute_result"
    }
   ],
   "execution_count": 16
  }
 ],
 "metadata": {
  "kernelspec": {
   "display_name": "Python 3",
   "language": "python",
   "name": "python3"
  },
  "language_info": {
   "codemirror_mode": {
    "name": "ipython",
    "version": 2
   },
   "file_extension": ".py",
   "mimetype": "text/x-python",
   "name": "python",
   "nbconvert_exporter": "python",
   "pygments_lexer": "ipython2",
   "version": "2.7.6"
  }
 },
 "nbformat": 4,
 "nbformat_minor": 5
}
